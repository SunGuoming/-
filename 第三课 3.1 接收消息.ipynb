{
 "cells": [
  {
   "cell_type": "code",
   "execution_count": 1,
   "metadata": {},
   "outputs": [
    {
     "name": "stdout",
     "output_type": "stream",
     "text": [
      "█\r"
     ]
    }
   ],
   "source": [
    "import itchat"
   ]
  },
  {
   "cell_type": "code",
   "execution_count": 2,
   "metadata": {},
   "outputs": [
    {
     "name": "stderr",
     "output_type": "stream",
     "text": [
      "Getting uuid of QR code.\n",
      "Downloading QR code.\n",
      "Please scan the QR code to log in.\n",
      "Please press confirm on your phone.\n",
      "Loading the contact, this may take a little while.\n",
      "Login successfully as 根鸟\n"
     ]
    }
   ],
   "source": [
    "itchat.auto_login()"
   ]
  },
  {
   "cell_type": "code",
   "execution_count": 3,
   "metadata": {},
   "outputs": [],
   "source": [
    "@itchat.msg_register(['Text'])\n",
    "def ReceiveMsg(msg):\n",
    "    print(msg)"
   ]
  },
  {
   "cell_type": "code",
   "execution_count": 4,
   "metadata": {},
   "outputs": [],
   "source": [
    "@itchat.msg_register(['Friends'])\n",
    "def ReceiveMsg(msg):\n",
    "    print(msg)"
   ]
  },
  {
   "cell_type": "code",
   "execution_count": 5,
   "metadata": {},
   "outputs": [
    {
     "name": "stderr",
     "output_type": "stream",
     "text": [
      "Start auto replying.\n"
     ]
    },
    {
     "name": "stdout",
     "output_type": "stream",
     "text": [
      "{'MsgId': '2675377281240873751', 'FromUserName': '@3084c463c566a6c7fd4ff4bfd355dd245fab3710b2c2c7533e12814c75ab6874', 'ToUserName': '@b980cb2970a0a7aba221c802aca0a6c832bf13dbb673656e094b52e068a185e7', 'MsgType': 1, 'Content': '你好', 'Status': 3, 'ImgStatus': 1, 'CreateTime': 1540743478, 'VoiceLength': 0, 'PlayLength': 0, 'FileName': '', 'FileSize': '', 'MediaId': '', 'Url': '', 'AppMsgType': 0, 'StatusNotifyCode': 0, 'StatusNotifyUserName': '', 'RecommendInfo': {'UserName': '', 'NickName': '', 'QQNum': 0, 'Province': '', 'City': '', 'Content': '', 'Signature': '', 'Alias': '', 'Scene': 0, 'VerifyFlag': 0, 'AttrStatus': 0, 'Sex': 0, 'Ticket': '', 'OpCode': 0}, 'ForwardFlag': 0, 'AppInfo': {'AppID': '', 'Type': 0}, 'HasProductId': 0, 'Ticket': '', 'ImgHeight': 0, 'ImgWidth': 0, 'SubMsgType': 0, 'NewMsgId': 2675377281240873751, 'OriContent': '', 'EncryFileName': '', 'User': <User: {'MemberList': <ContactList: []>, 'Uin': 0, 'UserName': '@3084c463c566a6c7fd4ff4bfd355dd245fab3710b2c2c7533e12814c75ab6874', 'NickName': '根鸟的测试账号', 'HeadImgUrl': '/cgi-bin/mmwebwx-bin/webwxgeticon?seq=681366083&username=@3084c463c566a6c7fd4ff4bfd355dd245fab3710b2c2c7533e12814c75ab6874&skey=@crypt_ba9bc7de_f68163e57b578d2a66fc3eeb3d1cb7fc', 'ContactFlag': 3, 'MemberCount': 0, 'RemarkName': '', 'HideInputBarFlag': 0, 'Sex': 0, 'Signature': '', 'VerifyFlag': 0, 'OwnerUin': 0, 'PYInitial': 'GDDCSZH', 'PYQuanPin': 'gendiaodeceshizhanghao', 'RemarkPYInitial': '', 'RemarkPYQuanPin': '', 'StarFriend': 0, 'AppAccountFlag': 0, 'Statues': 0, 'AttrStatus': 135205, 'Province': '', 'City': '', 'Alias': '', 'SnsFlag': 0, 'UniFriend': 0, 'DisplayName': '', 'ChatRoomId': 0, 'KeyWord': '', 'EncryChatRoomId': '', 'IsOwner': 0}>, 'Type': 'Text', 'Text': '你好'}\n",
      "{'MsgId': '5967048191582769143', 'FromUserName': 'fmessage', 'ToUserName': '@b980cb2970a0a7aba221c802aca0a6c832bf13dbb673656e094b52e068a185e7', 'MsgType': 37, 'Content': '@fcc02e070f81007c92be60e5d457385d2d4a6cee01e2764c6aa3e8f4d26da6c4b33ad9a042cd03717424f113078e87f0bb6b74a0c906690876db3fdcd5ae63bd1d71c0923eb5bdd453d9c8f67ced715b955e673ea08ba09806fe86d2d92caa404cd1c99d3bf9f5f0be4f001ad7de510081915b8fed4f7d9d17766c372ae2c21a04dea4868fe2f4b49c49d3b5357101224a7c116c63952fba2bb0c3b9a62b9481eb26d2a3bd5f695ce5ab25298f597321fadcd3304bfe1d86ba07d776c8c2b812653bb42ec6a6610d7d1ef7ce69334b8e63185ebf829a5cec3d37b52a7875050cfd0bda8a9d9b6656fa36a81098d863cf3f271845e46d3b0d4bb3840d17b13ead22c101ec2f17e4ca2f7fc3b8e8717d9b9e67f664ffafcd61249d9cdd59c8b1975fd03cee9e8c8330c351d287e3137fd761e7e68457e28bd8f60bc9613e9f96b3ff13b25ee32d707eedec93621cd31ce733fc56fecdcf393b37ecfeb8205b2335edd0b69365df7452fe4145c74effee045a27b10e79a2bb7c682cb561977f3c94986cf51fefed45c610058f7a71e4c363c8f697ca79bbf77eb9b3059e8826897b6d1e9eebd1cdc327578f30840aa245bdc9269cf930d6013ef72ba126f3a5ae4d752dda3966b0a5769dd16e618ffbf8b1db812551ed218060161cc91b4ca255b071e24b983795f112851e6e1b60221a465a206489d7cf3b58985bf0b9e29fd194b783c31719f9ed298bef4c96c57bbe362eb412b12c48fc967214a73f1834199e040678b5cc3eaa7252b85e96ba401f5615f8bfb036051a8257df69e8c38e41834332d1fb208b9f28c230d509e8ff6ba3df57620d2effe41d5f9550308a3cc2afbdccc8d7dd92823292e44c53c0f68a7e259421d21d292da250831eaa4651997ac00af21fef155412647f74701fc9d5071f6cc8f4a8a4cd7ea94d908882fdd27963e993c82979826fd73afb0565bc362bba31fd295f11d72fff937f7fd91b1a44f077556533f3a695405911e5f17b198652781e9de8376d85d0ef574bfe9360105ee8254fe0f58f344220dcfb1082a3c76eedcf7a4a112151b49da792acdb01ede1c596783cac90154b8c9a8860161da282d33ff53bb12667bec9f82bd9bcdb14d2a7a98735bec60fb269a8fda1ec1b1357467fdc07a9f3fd59f19f685315be54582b2830ebe5473626c30c9794e4e714cd355f59e2de6e7ffd9c96d69338d0b52af8ee2ea5a8e7b126e8e579fdccfc98', 'Status': 3, 'ImgStatus': 1, 'CreateTime': 1540743511, 'VoiceLength': 0, 'PlayLength': 0, 'FileName': '', 'FileSize': '', 'MediaId': '', 'Url': '', 'AppMsgType': 0, 'StatusNotifyCode': 0, 'StatusNotifyUserName': '', 'RecommendInfo': {'UserName': '@3084c463c566a6c7fd4ff4bfd355dd245fab3710b2c2c7533e12814c75ab6874', 'NickName': '根鸟的测试账号', 'QQNum': 0, 'Province': '', 'City': '', 'Content': '我是根鸟的测试账号', 'Signature': '', 'Alias': '', 'Scene': 6, 'VerifyFlag': 0, 'AttrStatus': 135205, 'Sex': 0, 'Ticket': 'v2_3abe9208f4d26356f270f5b7d14f96170532c8fbaa155cd92626fd8e3301d7c0da1eddaaa63d1d3e6c4b807462ac7c60f5acb95f46f478f260a6b055618ab65a@stranger', 'OpCode': 2}, 'ForwardFlag': 0, 'AppInfo': {'AppID': '', 'Type': 0}, 'HasProductId': 0, 'Ticket': '', 'ImgHeight': 0, 'ImgWidth': 0, 'SubMsgType': 0, 'NewMsgId': 5967048191582769143, 'OriContent': '', 'EncryFileName': '', 'User': <User: {'UserName': '@3084c463c566a6c7fd4ff4bfd355dd245fab3710b2c2c7533e12814c75ab6874', 'MemberList': <ContactList: []>}>, 'Type': 'Friends', 'Text': {'status': 3, 'userName': '@3084c463c566a6c7fd4ff4bfd355dd245fab3710b2c2c7533e12814c75ab6874', 'verifyContent': '', 'autoUpdate': {'UserName': '@3084c463c566a6c7fd4ff4bfd355dd245fab3710b2c2c7533e12814c75ab6874', 'NickName': '根鸟的测试账号', 'QQNum': 0, 'Province': '', 'City': '', 'Content': '我是根鸟的测试账号', 'Signature': '', 'Alias': '', 'Scene': 6, 'VerifyFlag': 0, 'AttrStatus': 135205, 'Sex': 0, 'Ticket': 'v2_3abe9208f4d26356f270f5b7d14f96170532c8fbaa155cd92626fd8e3301d7c0da1eddaaa63d1d3e6c4b807462ac7c60f5acb95f46f478f260a6b055618ab65a@stranger', 'OpCode': 2}}}\n"
     ]
    },
    {
     "name": "stderr",
     "output_type": "stream",
     "text": [
      "Bye~\n"
     ]
    }
   ],
   "source": [
    "itchat.run()"
   ]
  },
  {
   "cell_type": "code",
   "execution_count": 6,
   "metadata": {},
   "outputs": [
    {
     "ename": "NameError",
     "evalue": "name 'msg' is not defined",
     "output_type": "error",
     "traceback": [
      "\u001b[1;31m---------------------------------------------------------------------------\u001b[0m",
      "\u001b[1;31mNameError\u001b[0m                                 Traceback (most recent call last)",
      "\u001b[1;32m<ipython-input-6-24e5f065ce70>\u001b[0m in \u001b[0;36m<module>\u001b[1;34m()\u001b[0m\n\u001b[1;32m----> 1\u001b[1;33m \u001b[0mmsg\u001b[0m\u001b[1;33m[\u001b[0m\u001b[1;34m'Content'\u001b[0m\u001b[1;33m]\u001b[0m\u001b[1;33m\u001b[0m\u001b[0m\n\u001b[0m",
      "\u001b[1;31mNameError\u001b[0m: name 'msg' is not defined"
     ]
    }
   ],
   "source": [
    "msg['Content']"
   ]
  },
  {
   "cell_type": "code",
   "execution_count": null,
   "metadata": {},
   "outputs": [],
   "source": []
  }
 ],
 "metadata": {
  "kernelspec": {
   "display_name": "Python [default]",
   "language": "python",
   "name": "python3"
  },
  "language_info": {
   "codemirror_mode": {
    "name": "ipython",
    "version": 3
   },
   "file_extension": ".py",
   "mimetype": "text/x-python",
   "name": "python",
   "nbconvert_exporter": "python",
   "pygments_lexer": "ipython3",
   "version": "3.6.4"
  }
 },
 "nbformat": 4,
 "nbformat_minor": 2
}
