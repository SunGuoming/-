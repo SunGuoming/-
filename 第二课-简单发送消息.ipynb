{
 "cells": [
  {
   "cell_type": "code",
   "execution_count": 1,
   "metadata": {},
   "outputs": [
    {
     "name": "stdout",
     "output_type": "stream",
     "text": [
      "█\r"
     ]
    }
   ],
   "source": [
    "import itchat"
   ]
  },
  {
   "cell_type": "code",
   "execution_count": 2,
   "metadata": {},
   "outputs": [
    {
     "name": "stderr",
     "output_type": "stream",
     "text": [
      "Getting uuid of QR code.\n",
      "Downloading QR code.\n",
      "Please scan the QR code to log in.\n",
      "Please press confirm on your phone.\n",
      "Loading the contact, this may take a little while.\n",
      "Login successfully as 根鸟\n"
     ]
    }
   ],
   "source": [
    "itchat.auto_login()"
   ]
  },
  {
   "cell_type": "code",
   "execution_count": 4,
   "metadata": {},
   "outputs": [
    {
     "data": {
      "text/plain": [
       "[<User: {'MemberList': <ContactList: []>, 'Uin': 0, 'UserName': '@be2eb1d595ed7feaecc20c703d1a0d67e70f114c6a44fbe6cc7ff530fcd986d9', 'NickName': '根鸟的测试账号', 'HeadImgUrl': '/cgi-bin/mmwebwx-bin/webwxgeticon?seq=681366083&username=@be2eb1d595ed7feaecc20c703d1a0d67e70f114c6a44fbe6cc7ff530fcd986d9&skey=@crypt_ba9bc7de_9f164a50bce08897e4adcefc672af43e', 'ContactFlag': 3, 'MemberCount': 0, 'RemarkName': '根鸟的测试账号', 'HideInputBarFlag': 0, 'Sex': 0, 'Signature': '', 'VerifyFlag': 0, 'OwnerUin': 0, 'PYInitial': 'GDDCSZH', 'PYQuanPin': 'gendiaodeceshizhanghao', 'RemarkPYInitial': 'GDDCSZH', 'RemarkPYQuanPin': 'gendiaodeceshizhanghao', 'StarFriend': 0, 'AppAccountFlag': 0, 'Statues': 0, 'AttrStatus': 135205, 'Province': '', 'City': '', 'Alias': '', 'SnsFlag': 0, 'UniFriend': 0, 'DisplayName': '', 'ChatRoomId': 0, 'KeyWord': '', 'EncryChatRoomId': '', 'IsOwner': 0}>]"
      ]
     },
     "execution_count": 4,
     "metadata": {},
     "output_type": "execute_result"
    }
   ],
   "source": [
    "itchat.search_friends('根鸟的测试账号')"
   ]
  },
  {
   "cell_type": "code",
   "execution_count": 5,
   "metadata": {},
   "outputs": [],
   "source": [
    "itchat.send?"
   ]
  },
  {
   "cell_type": "code",
   "execution_count": 8,
   "metadata": {},
   "outputs": [
    {
     "data": {
      "text/plain": [
       "<ItchatReturnValue: {'BaseResponse': {'Ret': 0, 'ErrMsg': '请求成功', 'RawMsg': '请求成功'}, 'MsgID': '6171998938853474378', 'LocalID': '15400569699617'}>"
      ]
     },
     "execution_count": 8,
     "metadata": {},
     "output_type": "execute_result"
    },
    {
     "name": "stderr",
     "output_type": "stream",
     "text": [
      "LOG OUT!\n"
     ]
    }
   ],
   "source": [
    "itchat.send(\"\"\"另2条测试消息\"\"\"\n",
    "            ,\n",
    "    '@be2eb1d595ed7feaecc20c703d1a0d67e70f114c6a44fbe6cc7ff530fcd986d9')"
   ]
  },
  {
   "cell_type": "code",
   "execution_count": null,
   "metadata": {},
   "outputs": [],
   "source": []
  }
 ],
 "metadata": {
  "kernelspec": {
   "display_name": "Python [default]",
   "language": "python",
   "name": "python3"
  },
  "language_info": {
   "codemirror_mode": {
    "name": "ipython",
    "version": 3
   },
   "file_extension": ".py",
   "mimetype": "text/x-python",
   "name": "python",
   "nbconvert_exporter": "python",
   "pygments_lexer": "ipython3",
   "version": "3.6.4"
  }
 },
 "nbformat": 4,
 "nbformat_minor": 2
}
