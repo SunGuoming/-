{
 "cells": [
  {
   "cell_type": "markdown",
   "metadata": {},
   "source": [
    "# 一、demo"
   ]
  },
  {
   "cell_type": "markdown",
   "metadata": {},
   "source": [
    "# 核心逻辑：\n",
    "# 收到消息后 （Res）\n",
    "# 如果是我们指定的消息 （IF）\n",
    "# 那么做出回应 （Send）"
   ]
  },
  {
   "cell_type": "code",
   "execution_count": 1,
   "metadata": {},
   "outputs": [
    {
     "name": "stdout",
     "output_type": "stream",
     "text": [
      "█\r"
     ]
    },
    {
     "name": "stderr",
     "output_type": "stream",
     "text": [
      "Getting uuid of QR code.\n",
      "Downloading QR code.\n",
      "Please scan the QR code to log in.\n",
      "Please press confirm on your phone.\n",
      "Loading the contact, this may take a little while.\n",
      "Login successfully as 根鸟\n"
     ]
    }
   ],
   "source": [
    "import itchat\n",
    "itchat.auto_login()"
   ]
  },
  {
   "cell_type": "code",
   "execution_count": 3,
   "metadata": {},
   "outputs": [],
   "source": [
    "@itchat.msg_register(['Text'])\n",
    "def ReceiveMsg(msg):\n",
    "    if '6666' == msg['Content']:\n",
    "        itchat.send(\"恭喜你回答正确\",msg['FromUserName'])\n",
    "        print('自动回复成功')"
   ]
  },
  {
   "cell_type": "code",
   "execution_count": 4,
   "metadata": {},
   "outputs": [],
   "source": [
    "@itchat.msg_register(['Friends'])\n",
    "def AddFriend(msg):\n",
    "    if '微信机器人' in msg['RecommendInfo']['Content']:\n",
    "        itchat.add_friend(**msg['Text'])\n",
    "    print(msg['RecommendInfo']['Content'])"
   ]
  },
  {
   "cell_type": "code",
   "execution_count": 5,
   "metadata": {},
   "outputs": [
    {
     "name": "stderr",
     "output_type": "stream",
     "text": [
      "Start auto replying.\n"
     ]
    },
    {
     "name": "stdout",
     "output_type": "stream",
     "text": [
      "自动回复成功\n",
      "自动回复成功\n",
      "我是根鸟的测试账号\n",
      "你好！微信机器人！\n"
     ]
    },
    {
     "name": "stderr",
     "output_type": "stream",
     "text": [
      "Bye~\n"
     ]
    }
   ],
   "source": [
    "itchat.run()"
   ]
  },
  {
   "cell_type": "markdown",
   "metadata": {},
   "source": [
    "# 二、集成"
   ]
  },
  {
   "cell_type": "code",
   "execution_count": 7,
   "metadata": {},
   "outputs": [],
   "source": [
    "暗号 = {\n",
    "    'a':'A',\n",
    "    'b':'B',\n",
    "    'c':'C',\n",
    "    'd':'D',\n",
    "}"
   ]
  },
  {
   "cell_type": "code",
   "execution_count": 8,
   "metadata": {},
   "outputs": [
    {
     "data": {
      "text/plain": [
       "dict_keys(['a', 'b', 'c', 'd'])"
      ]
     },
     "execution_count": 8,
     "metadata": {},
     "output_type": "execute_result"
    }
   ],
   "source": [
    "暗号.keys()"
   ]
  },
  {
   "cell_type": "code",
   "execution_count": 9,
   "metadata": {},
   "outputs": [],
   "source": [
    "名单 = [\n",
    "    '张三',\n",
    "    '李四',\n",
    "    'Tom',\n",
    "    '根鸟的测试账号',\n",
    "]"
   ]
  },
  {
   "cell_type": "code",
   "execution_count": 10,
   "metadata": {},
   "outputs": [],
   "source": [
    "关键词 = {\n",
    "    '在么':'我在，怎么了？',\n",
    "    '你好':'你好！我是根鸟。',\n",
    "}"
   ]
  },
  {
   "cell_type": "code",
   "execution_count": 11,
   "metadata": {},
   "outputs": [
    {
     "name": "stderr",
     "output_type": "stream",
     "text": [
      "Getting uuid of QR code.\n",
      "Downloading QR code.\n",
      "Please scan the QR code to log in.\n",
      "LOG OUT!\n",
      "Please press confirm on your phone.\n",
      "Loading the contact, this may take a little while.\n",
      "Login successfully as 根鸟\n",
      "Start auto replying.\n"
     ]
    },
    {
     "name": "stdout",
     "output_type": "stream",
     "text": [
      "暗号'a'触发\n",
      "暗号'b'触发\n",
      "关键词'你好'触发\n",
      "关键词'在么'触发\n",
      "收到好友请求\n",
      "我是张三\n",
      "已自动通过'张三'的好友请求\n"
     ]
    },
    {
     "name": "stderr",
     "output_type": "stream",
     "text": [
      "Bye~\n"
     ]
    }
   ],
   "source": [
    "import itchat\n",
    "\n",
    "@itchat.msg_register(['Text'])\n",
    "def ReceiveMsg(msg):\n",
    "    if msg['Content'] in 暗号.keys():\n",
    "        itchat.send(暗号[msg['Content']],msg['FromUserName'])\n",
    "        print(\"暗号'%s'触发\"%(msg['Content']))\n",
    "    for word in 关键词.keys():\n",
    "        if word in msg['Content']:\n",
    "            itchat.send(关键词[word],msg['FromUserName'])\n",
    "            print(\"关键词'%s'触发\"%(word))\n",
    "@itchat.msg_register(['Friends'])\n",
    "def AddFriend(msg):\n",
    "    print(\"收到好友请求\")\n",
    "    print(msg['RecommendInfo']['Content'])\n",
    "    for name in 名单:\n",
    "        if msg['RecommendInfo']['Content']==name or msg['RecommendInfo']['Content'] == \"我是\"+name or msg['RecommendInfo']['Content'] == \"I'm \"+name:\n",
    "            itchat.add_friend(**msg['Text'])\n",
    "            print(\"已自动通过'%s'的好友请求\"%(name))\n",
    "            \n",
    "itchat.auto_login()\n",
    "itchat.run()"
   ]
  },
  {
   "cell_type": "code",
   "execution_count": null,
   "metadata": {},
   "outputs": [],
   "source": []
  }
 ],
 "metadata": {
  "kernelspec": {
   "display_name": "Python [default]",
   "language": "python",
   "name": "python3"
  },
  "language_info": {
   "codemirror_mode": {
    "name": "ipython",
    "version": 3
   },
   "file_extension": ".py",
   "mimetype": "text/x-python",
   "name": "python",
   "nbconvert_exporter": "python",
   "pygments_lexer": "ipython3",
   "version": "3.6.4"
  }
 },
 "nbformat": 4,
 "nbformat_minor": 2
}
