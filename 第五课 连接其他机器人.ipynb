{
 "cells": [
  {
   "cell_type": "code",
   "execution_count": 1,
   "metadata": {},
   "outputs": [],
   "source": [
    "# 核心逻辑：\n",
    "# 接受到消息 （Res）\n",
    "# 发送给其他机器人 \n",
    "# 获取其他机器人的回复\n",
    "# 回复对法 （Send）"
   ]
  },
  {
   "cell_type": "markdown",
   "metadata": {},
   "source": [
    "# 连接图灵机器人"
   ]
  },
  {
   "cell_type": "code",
   "execution_count": 2,
   "metadata": {},
   "outputs": [],
   "source": [
    "api_url = 'http://www.tuling123.com/openapi/api'\n",
    "apikey = '137ea37ee304440d91bbb0fd5a7aad28'"
   ]
  },
  {
   "cell_type": "code",
   "execution_count": 3,
   "metadata": {},
   "outputs": [],
   "source": [
    "msg = \"我今天吃了糖醋排骨，真好吃\""
   ]
  },
  {
   "cell_type": "code",
   "execution_count": 4,
   "metadata": {},
   "outputs": [],
   "source": [
    "data = {'key': apikey,\n",
    "        'info': msg,\n",
    "        }"
   ]
  },
  {
   "cell_type": "code",
   "execution_count": 5,
   "metadata": {},
   "outputs": [],
   "source": [
    "import requests"
   ]
  },
  {
   "cell_type": "code",
   "execution_count": 6,
   "metadata": {},
   "outputs": [],
   "source": [
    "req = requests.post(api_url, data).json()"
   ]
  },
  {
   "cell_type": "code",
   "execution_count": 7,
   "metadata": {},
   "outputs": [
    {
     "data": {
      "text/plain": [
       "{'code': 100000, 'text': '要不要再来一份？'}"
      ]
     },
     "execution_count": 7,
     "metadata": {},
     "output_type": "execute_result"
    }
   ],
   "source": [
    "req"
   ]
  },
  {
   "cell_type": "code",
   "execution_count": 8,
   "metadata": {},
   "outputs": [
    {
     "data": {
      "text/plain": [
       "'要不要再来一份？'"
      ]
     },
     "execution_count": 8,
     "metadata": {},
     "output_type": "execute_result"
    }
   ],
   "source": [
    "req['text']"
   ]
  },
  {
   "cell_type": "code",
   "execution_count": 9,
   "metadata": {},
   "outputs": [
    {
     "name": "stdout",
     "output_type": "stream",
     "text": [
      "█\r"
     ]
    }
   ],
   "source": [
    "import itchat"
   ]
  },
  {
   "cell_type": "code",
   "execution_count": 10,
   "metadata": {},
   "outputs": [],
   "source": [
    "@itchat.msg_register(['Text'])\n",
    "def ReceiveMsg(msg):\n",
    "    data = {'key': apikey,\n",
    "            'info': msg[\"Content\"],\n",
    "            }\n",
    "    req = requests.post(api_url, data).json()['text']\n",
    "    itchat.send(req,msg['FromUserName'])"
   ]
  },
  {
   "cell_type": "markdown",
   "metadata": {},
   "source": [
    "### 请思考：\n",
    "## 如何控制机器人开启和关闭自动回复？"
   ]
  },
  {
   "cell_type": "code",
   "execution_count": 19,
   "metadata": {},
   "outputs": [],
   "source": [
    "Signal = False\n",
    "\n",
    "@itchat.msg_register(['Text'])\n",
    "def ReceiveMsg(msg):\n",
    "    global Signal \n",
    "    if msg[\"ToUserName\"] == \"filehelper\":\n",
    "        if msg[\"Content\"] == \"机器人状态\":\n",
    "            itchat.send(\"机器人状态为%s\"%(Singal),\"filehelper\")        \n",
    "        elif msg[\"Content\"] == \"启动机器人\":\n",
    "            Signal = True\n",
    "            itchat.send(\"机器人已启动\",\"filehelper\")        \n",
    "        elif msg[\"Content\"] == \"停止机器人\":\n",
    "            Signal = False\n",
    "            itchat.send(\"机器人已停止\",\"filehelper\")        \n",
    "\n",
    "    elif Signal:\n",
    "            data = {'key': apikey,\n",
    "                    'info': msg[\"Content\"],\n",
    "                    }\n",
    "            req = requests.post(api_url, data).json()['text']\n",
    "            itchat.send(req,msg['FromUserName'])"
   ]
  },
  {
   "cell_type": "code",
   "execution_count": null,
   "metadata": {},
   "outputs": [
    {
     "name": "stderr",
     "output_type": "stream",
     "text": [
      "Getting uuid of QR code.\n",
      "Downloading QR code.\n",
      "Please scan the QR code to log in.\n",
      "Please press confirm on your phone.\n",
      "LOG OUT!\n",
      "Loading the contact, this may take a little while.\n",
      "Login successfully as 根鸟\n",
      "Start auto replying.\n"
     ]
    }
   ],
   "source": [
    "itchat.auto_login()\n",
    "itchat.run()"
   ]
  },
  {
   "cell_type": "code",
   "execution_count": null,
   "metadata": {},
   "outputs": [],
   "source": []
  },
  {
   "cell_type": "code",
   "execution_count": null,
   "metadata": {},
   "outputs": [],
   "source": []
  },
  {
   "cell_type": "code",
   "execution_count": null,
   "metadata": {},
   "outputs": [],
   "source": []
  },
  {
   "cell_type": "code",
   "execution_count": null,
   "metadata": {},
   "outputs": [],
   "source": []
  },
  {
   "cell_type": "code",
   "execution_count": null,
   "metadata": {},
   "outputs": [],
   "source": []
  },
  {
   "cell_type": "code",
   "execution_count": null,
   "metadata": {},
   "outputs": [],
   "source": []
  },
  {
   "cell_type": "code",
   "execution_count": null,
   "metadata": {},
   "outputs": [],
   "source": []
  },
  {
   "cell_type": "code",
   "execution_count": null,
   "metadata": {},
   "outputs": [],
   "source": []
  },
  {
   "cell_type": "code",
   "execution_count": 35,
   "metadata": {},
   "outputs": [],
   "source": [
    "Signal = False\n",
    "@itchat.msg_register(['Text'])\n",
    "def ReceiveMsg(msg):\n",
    "    global Signal\n",
    "    global UserSignal\n",
    "    print(Signal)\n",
    "    if msg['ToUserName']=='filehelper':\n",
    "        if msg['Content'] == \"停止\":\n",
    "            Signal = False\n",
    "            itchat.send(\"已经停止\",'filehelper')\n",
    "        elif msg['Content'] == \"启动\":\n",
    "            Signal = True\n",
    "            itchat.send(\"已经启动\",'filehelper')\n",
    "    elif Signal:\n",
    "        if msg[\"Content\"] == \"启动机器人\":\n",
    "            UserSignal[\"FromUserName\"] = True\n",
    "            itchat.send(\"你的专属机器人已启动\",msg['FromUserName'])\n",
    "            return\n",
    "        if msg[\"Content\"] == \"停止机器人\":\n",
    "            UserSignal[\"FromUserName\"] = False\n",
    "            itchat.send(\"你的专属机器人已停止\",msg['FromUserName'])\n",
    "\n",
    "        if UserSignal[\"FromUserName\"]:\n",
    "            data = {'key': apikey,\n",
    "                    'info': msg[\"Content\"],\n",
    "                    }\n",
    "            req = requests.post(api_url, data).json()['text']\n",
    "            itchat.send(req,msg['FromUserName'])"
   ]
  },
  {
   "cell_type": "code",
   "execution_count": 38,
   "metadata": {
    "scrolled": false
   },
   "outputs": [
    {
     "name": "stderr",
     "output_type": "stream",
     "text": [
      "Getting uuid of QR code.\n",
      "Downloading QR code.\n",
      "Please scan the QR code to log in.\n",
      "Please press confirm on your phone.\n",
      "Loading the contact, this may take a little while.\n",
      "Login successfully as 根鸟\n",
      "Start auto replying.\n"
     ]
    },
    {
     "name": "stdout",
     "output_type": "stream",
     "text": [
      "False\n"
     ]
    },
    {
     "name": "stderr",
     "output_type": "stream",
     "text": [
      "Traceback (most recent call last):\n",
      "  File \"C:\\Users\\Mr. Sun\\AppData\\Local\\Continuum\\anaconda3\\lib\\site-packages\\itchat\\components\\register.py\", line 60, in configured_reply\n",
      "    r = replyFn(msg)\n",
      "  File \"<ipython-input-35-70cb9d56336a>\", line 23, in ReceiveMsg\n",
      "    if UserSignal[\"FromUserName\"]:\n",
      "KeyError: 'FromUserName'\n",
      "\n"
     ]
    },
    {
     "name": "stdout",
     "output_type": "stream",
     "text": [
      "True\n",
      "True\n",
      "True\n",
      "True\n",
      "True\n"
     ]
    },
    {
     "name": "stderr",
     "output_type": "stream",
     "text": [
      "Bye~\n"
     ]
    }
   ],
   "source": [
    "itchat.auto_login()\n",
    "A = itchat.get_friends()\n",
    "import pandas as pd\n",
    "UserSignal = pd.DataFrame(A).set_index('UserName')\n",
    "UserSignal['signal']=False\n",
    "UserSignal = dict(UserSignal['signal'])\n",
    "itchat.run()"
   ]
  },
  {
   "cell_type": "code",
   "execution_count": 37,
   "metadata": {},
   "outputs": [
    {
     "data": {
      "text/plain": [
       "<ItchatReturnValue: {'BaseResponse': {'ErrMsg': '请求成功', 'Ret': 0, 'RawMsg': 'logout successfully.'}}>"
      ]
     },
     "execution_count": 37,
     "metadata": {},
     "output_type": "execute_result"
    }
   ],
   "source": [
    "itchat.logout()"
   ]
  },
  {
   "cell_type": "code",
   "execution_count": null,
   "metadata": {},
   "outputs": [],
   "source": []
  }
 ],
 "metadata": {
  "kernelspec": {
   "display_name": "Python [default]",
   "language": "python",
   "name": "python3"
  },
  "language_info": {
   "codemirror_mode": {
    "name": "ipython",
    "version": 3
   },
   "file_extension": ".py",
   "mimetype": "text/x-python",
   "name": "python",
   "nbconvert_exporter": "python",
   "pygments_lexer": "ipython3",
   "version": "3.6.4"
  }
 },
 "nbformat": 4,
 "nbformat_minor": 2
}
